{
 "cells": [
  {
   "cell_type": "markdown",
   "metadata": {},
   "source": [
    "# Haddendataset preprocessing"
   ]
  },
  {
   "cell_type": "code",
   "execution_count": 1,
   "metadata": {},
   "outputs": [],
   "source": [
    "import os\n",
    "import shutil\n",
    "import sys\n",
    "\n",
    "import numpy as np\n",
    "from scipy import sparse\n",
    "import pandas as pd\n",
    "import math\n",
    "import matplotlib.pyplot as plt"
   ]
  },
  {
   "cell_type": "markdown",
   "metadata": {},
   "source": [
    "### Load Data"
   ]
  },
  {
   "cell_type": "code",
   "execution_count": 2,
   "metadata": {},
   "outputs": [],
   "source": [
    "### change `DATA_DIR` to the location where movielens-20m dataset sits\n",
    "DATA_DIR = './'"
   ]
  },
  {
   "cell_type": "code",
   "execution_count": 3,
   "metadata": {},
   "outputs": [],
   "source": [
    "pro_dir = \"./5\""
   ]
  },
  {
   "cell_type": "code",
   "execution_count": 4,
   "metadata": {},
   "outputs": [
    {
     "name": "stdout",
     "output_type": "stream",
     "text": [
      "539995\n",
      "        users  products\n",
      "0           0         0\n",
      "1           0      1358\n",
      "2           0      5506\n",
      "3           0     17999\n",
      "4           1         1\n",
      "...       ...       ...\n",
      "377917  61188     16774\n",
      "377918  61189      1067\n",
      "377919  61190       593\n",
      "377920  61191        24\n",
      "377921  61191        31\n",
      "\n",
      "[377922 rows x 2 columns]\n",
      "(377922, 2)\n"
     ]
    }
   ],
   "source": [
    "raw_data_total = pd.read_csv(os.path.join(DATA_DIR, 'data.csv'), header=0)\n",
    "print(raw_data_total.shape[0])\n",
    "raw_data = pd.DataFrame({'count' : raw_data_total.groupby( [ \"users\", \"products\"] ).size()}).reset_index()\n",
    "del raw_data['count']\n",
    "print(raw_data)\n",
    "print(raw_data.shape)"
   ]
  },
  {
   "cell_type": "code",
   "execution_count": 5,
   "metadata": {},
   "outputs": [
    {
     "name": "stdout",
     "output_type": "stream",
     "text": [
      "users\n",
      "1137     15219\n",
      "3486      6141\n",
      "54819     5323\n",
      "48418     3707\n",
      "28718     3421\n",
      "         ...  \n",
      "41454        1\n",
      "41453        1\n",
      "41452        1\n",
      "21381        1\n",
      "30595        1\n",
      "Length: 61192, dtype: int64\n",
      "15219\n"
     ]
    }
   ],
   "source": [
    "a = raw_data_total.groupby(\"users\").size()\n",
    "print(a.sort_values(ascending= False))\n",
    "print(a[1137])"
   ]
  },
  {
   "cell_type": "code",
   "execution_count": 6,
   "metadata": {},
   "outputs": [
    {
     "name": "stdout",
     "output_type": "stream",
     "text": [
      "users\n",
      "187      919\n",
      "26       810\n",
      "58       707\n",
      "307      639\n",
      "22       618\n",
      "        ... \n",
      "23037      1\n",
      "23038      1\n",
      "42542      1\n",
      "23040      1\n",
      "30595      1\n",
      "Length: 61192, dtype: int64\n"
     ]
    },
    {
     "data": {
      "text/plain": [
       "282"
      ]
     },
     "execution_count": 6,
     "metadata": {},
     "output_type": "execute_result"
    }
   ],
   "source": [
    "b = raw_data.groupby(\"users\").size()\n",
    "print(b.sort_values(ascending= False))\n",
    "b[1137]"
   ]
  },
  {
   "cell_type": "code",
   "execution_count": 7,
   "metadata": {},
   "outputs": [
    {
     "name": "stdout",
     "output_type": "stream",
     "text": [
      "users\n",
      "187      919\n",
      "26       810\n",
      "58       707\n",
      "307      639\n",
      "22       618\n",
      "        ... \n",
      "23037      1\n",
      "23038      1\n",
      "42542      1\n",
      "23040      1\n",
      "30595      1\n",
      "Length: 61192, dtype: int64\n"
     ]
    }
   ],
   "source": [
    "print(b.sort_values(ascending= False))"
   ]
  },
  {
   "cell_type": "code",
   "execution_count": 8,
   "metadata": {},
   "outputs": [
    {
     "data": {
      "text/html": [
       "<div>\n",
       "<style scoped>\n",
       "    .dataframe tbody tr th:only-of-type {\n",
       "        vertical-align: middle;\n",
       "    }\n",
       "\n",
       "    .dataframe tbody tr th {\n",
       "        vertical-align: top;\n",
       "    }\n",
       "\n",
       "    .dataframe thead th {\n",
       "        text-align: right;\n",
       "    }\n",
       "</style>\n",
       "<table border=\"1\" class=\"dataframe\">\n",
       "  <thead>\n",
       "    <tr style=\"text-align: right;\">\n",
       "      <th></th>\n",
       "      <th>users</th>\n",
       "      <th>products</th>\n",
       "    </tr>\n",
       "  </thead>\n",
       "  <tbody>\n",
       "    <tr>\n",
       "      <td>0</td>\n",
       "      <td>0</td>\n",
       "      <td>0</td>\n",
       "    </tr>\n",
       "    <tr>\n",
       "      <td>1</td>\n",
       "      <td>0</td>\n",
       "      <td>1358</td>\n",
       "    </tr>\n",
       "    <tr>\n",
       "      <td>2</td>\n",
       "      <td>0</td>\n",
       "      <td>5506</td>\n",
       "    </tr>\n",
       "    <tr>\n",
       "      <td>3</td>\n",
       "      <td>0</td>\n",
       "      <td>17999</td>\n",
       "    </tr>\n",
       "    <tr>\n",
       "      <td>4</td>\n",
       "      <td>1</td>\n",
       "      <td>1</td>\n",
       "    </tr>\n",
       "  </tbody>\n",
       "</table>\n",
       "</div>"
      ],
      "text/plain": [
       "   users  products\n",
       "0      0         0\n",
       "1      0      1358\n",
       "2      0      5506\n",
       "3      0     17999\n",
       "4      1         1"
      ]
     },
     "execution_count": 8,
     "metadata": {},
     "output_type": "execute_result"
    }
   ],
   "source": [
    "raw_data.head()"
   ]
  },
  {
   "cell_type": "code",
   "execution_count": 9,
   "metadata": {},
   "outputs": [
    {
     "data": {
      "text/plain": [
       "(377922, 2)"
      ]
     },
     "execution_count": 9,
     "metadata": {},
     "output_type": "execute_result"
    }
   ],
   "source": [
    "raw_data.shape"
   ]
  },
  {
   "cell_type": "markdown",
   "metadata": {},
   "source": [
    "### Data splitting procedure"
   ]
  },
  {
   "cell_type": "markdown",
   "metadata": {},
   "source": [
    "get_count id 별로 그룹화, 그룹별 데이터 수 확인"
   ]
  },
  {
   "cell_type": "code",
   "execution_count": 10,
   "metadata": {},
   "outputs": [],
   "source": [
    "def get_count(tp, id):\n",
    "    playcount_groupbyid = tp[[id]].groupby(id, as_index=False)\n",
    "    count = playcount_groupbyid.size()\n",
    "    return count"
   ]
  },
  {
   "cell_type": "code",
   "execution_count": 11,
   "metadata": {},
   "outputs": [],
   "source": [
    "def filter_triplets(tp, min_uc=5, min_sc=0):\n",
    "    # Only keep the triplets for items which were clicked on by at least min_sc users. \n",
    "    if min_sc > 0:\n",
    "         #기존 data를 min_sc 해당되는 movield만 filtering       \n",
    "        itemcount = get_count(tp, 'products')\n",
    "        tp = tp[tp['products'].isin(itemcount.index[itemcount >= min_sc])]\n",
    "    \n",
    "    # Only keep the triplets for users who clicked on at least min_uc items\n",
    "    # After doing this, some of the items will have less than min_uc users, but should only be a small proportion\n",
    "    if min_uc > 0:\n",
    "        usercount = get_count(tp, 'users')\n",
    "        #기존 data를 min_uc이상 해당되는 userld만 filtering\n",
    "        tp = tp[tp['users'].isin(usercount.index[usercount >= min_uc])]\n",
    "    \n",
    "    # Update both usercount and itemcount after filtering\n",
    "    usercount, itemcount = get_count(tp, 'users'), get_count(tp, 'products') \n",
    "    return tp, usercount, itemcount"
   ]
  },
  {
   "cell_type": "markdown",
   "metadata": {},
   "source": [
    "실제 data, 뽑아낸 usercont, 뽑아낸 movieId"
   ]
  },
  {
   "cell_type": "code",
   "execution_count": 12,
   "metadata": {},
   "outputs": [],
   "source": [
    "raw_data, user_activity, item_popularity = filter_triplets(raw_data, cur_min_uc, cur_n_items_p)"
   ]
  },
  {
   "cell_type": "markdown",
   "metadata": {},
   "source": [
    "sparsity 구하기 raw_data의 열의 갯수(filtering 된 raw data 총 갯수) / userid 갯수 * products 갯수"
   ]
  },
  {
   "cell_type": "code",
   "execution_count": 13,
   "metadata": {
    "scrolled": true
   },
   "outputs": [
    {
     "name": "stdout",
     "output_type": "stream",
     "text": [
      "After filtering, there are 300872 watching events from 12156 users and 47365 products (sparsity: 0.052%)\n"
     ]
    }
   ],
   "source": [
    "sparsity = 1. * raw_data.shape[0] / (user_activity.shape[0] * item_popularity.shape[0])\n",
    "\n",
    "print(\"After filtering, there are %d watching events from %d users and %d products (sparsity: %.3f%%)\" % \n",
    "      (raw_data.shape[0], user_activity.shape[0], item_popularity.shape[0], sparsity * 100))"
   ]
  },
  {
   "cell_type": "code",
   "execution_count": 14,
   "metadata": {},
   "outputs": [
    {
     "name": "stdout",
     "output_type": "stream",
     "text": [
      "24.750904902928596\n",
      "6.352200992293888\n"
     ]
    }
   ],
   "source": [
    "user_mean = np.mean(user_activity.tolist())\n",
    "item_popularity = np.mean(item_popularity.tolist())\n",
    "print(user_mean)\n",
    "print(item_popularity)"
   ]
  },
  {
   "cell_type": "code",
   "execution_count": 15,
   "metadata": {},
   "outputs": [
    {
     "name": "stdout",
     "output_type": "stream",
     "text": [
      "users\n",
      "187      919\n",
      "26       810\n",
      "58       707\n",
      "307      639\n",
      "22       618\n",
      "        ... \n",
      "16782      5\n",
      "37078      5\n",
      "2233       5\n",
      "27346      5\n",
      "20360      5\n",
      "Length: 12156, dtype: int64\n"
     ]
    }
   ],
   "source": [
    "print(get_count(raw_data,'users').sort_values(ascending= False))"
   ]
  }
 ],
 "metadata": {
  "kernelspec": {
   "display_name": "Python 3",
   "language": "python",
   "name": "python3"
  },
  "language_info": {
   "codemirror_mode": {
    "name": "ipython",
    "version": 3
   },
   "file_extension": ".py",
   "mimetype": "text/x-python",
   "name": "python",
   "nbconvert_exporter": "python",
   "pygments_lexer": "ipython3",
   "version": "3.7.4"
  }
 },
 "nbformat": 4,
 "nbformat_minor": 2
}
