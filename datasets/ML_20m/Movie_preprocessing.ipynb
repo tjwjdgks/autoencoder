{
 "cells": [
  {
   "cell_type": "markdown",
   "metadata": {},
   "source": [
    "#  preprocessing"
   ]
  },
  {
   "cell_type": "code",
   "execution_count": 69,
   "metadata": {},
   "outputs": [],
   "source": [
    "import os\n",
    "import shutil\n",
    "import sys\n",
    "\n",
    "import numpy as np\n",
    "from scipy import sparse\n",
    "import pandas as pd\n",
    "import math\n",
    "import matplotlib.pyplot as plt\n",
    "import random"
   ]
  },
  {
   "cell_type": "markdown",
   "metadata": {},
   "source": [
    "### Load Data"
   ]
  },
  {
   "cell_type": "code",
   "execution_count": 70,
   "metadata": {},
   "outputs": [],
   "source": [
    "### change `DATA_DIR` to the location where movielens-20m dataset sits\n",
    "DATA_DIR = 'C:/Users/SEO/PycharmProjects/testdigo/datasets/ML_20m'"
   ]
  },
  {
   "cell_type": "code",
   "execution_count": 71,
   "metadata": {},
   "outputs": [],
   "source": [
    "pro_dir = './'\n",
    "cur_min_uc = 5\n",
    "cur_val_num = 10000\n",
    "cur_te_num =10000\n",
    "cur_n_items_u = 10\n",
    "cur_train_por = 7\n",
    "cur_val_por = 3\n",
    "cur_test_por =3"
   ]
  },
  {
   "cell_type": "code",
   "execution_count": 72,
   "metadata": {
    "scrolled": true
   },
   "outputs": [
    {
     "name": "stdout",
     "output_type": "stream",
     "text": [
      "20000263\n",
      "         userId  movieId\n",
      "0             1      151\n",
      "1             1      223\n",
      "2             1      253\n",
      "3             1      260\n",
      "4             1      293\n",
      "...         ...      ...\n",
      "9995405  138493    66762\n",
      "9995406  138493    68319\n",
      "9995407  138493    68954\n",
      "9995408  138493    69526\n",
      "9995409  138493    70286\n",
      "\n",
      "[9995410 rows x 2 columns]\n",
      "(9995410, 2)\n"
     ]
    }
   ],
   "source": [
    "raw_data_total = pd.read_csv(os.path.join(DATA_DIR, 'ratings.csv'), header=0)\n",
    "print(raw_data_total.shape[0])\n",
    "raw_data_total = raw_data_total[raw_data_total['rating'] > 3.5]\n",
    "raw_data = pd.DataFrame({'count' : raw_data_total.groupby( [ \"userId\", \"movieId\"] ).size()}).reset_index()\n",
    "del raw_data['count']\n",
    "print(raw_data)\n",
    "print(raw_data.shape)"
   ]
  },
  {
   "cell_type": "code",
   "execution_count": 73,
   "metadata": {},
   "outputs": [
    {
     "name": "stdout",
     "output_type": "stream",
     "text": [
      "(138287,)\n"
     ]
    }
   ],
   "source": [
    "a = raw_data_total.groupby(\"userId\").size()\n",
    "print(a.shape)"
   ]
  },
  {
   "cell_type": "code",
   "execution_count": 74,
   "metadata": {},
   "outputs": [
    {
     "name": "stdout",
     "output_type": "stream",
     "text": [
      "(20720,)\n"
     ]
    }
   ],
   "source": [
    "b = raw_data_total.groupby(\"movieId\").size()\n",
    "print(b.shape)"
   ]
  },
  {
   "cell_type": "code",
   "execution_count": 62,
   "metadata": {},
   "outputs": [
    {
     "name": "stdout",
     "output_type": "stream",
     "text": [
      "userId\n",
      "125794    3177\n",
      "82418     2655\n",
      "8405      2503\n",
      "118205    2377\n",
      "131894    2349\n",
      "          ... \n",
      "93335        1\n",
      "27120        1\n",
      "32451        1\n",
      "53274        1\n",
      "66596        1\n",
      "Length: 138287, dtype: int64\n"
     ]
    },
    {
     "data": {
      "text/plain": [
       "17"
      ]
     },
     "execution_count": 62,
     "metadata": {},
     "output_type": "execute_result"
    }
   ],
   "source": [
    "b = raw_data.groupby(\"userId\").size()\n",
    "print(b.sort_values(ascending= False))\n",
    "b[1137]"
   ]
  },
  {
   "cell_type": "code",
   "execution_count": 63,
   "metadata": {},
   "outputs": [
    {
     "data": {
      "text/html": [
       "<div>\n",
       "<style scoped>\n",
       "    .dataframe tbody tr th:only-of-type {\n",
       "        vertical-align: middle;\n",
       "    }\n",
       "\n",
       "    .dataframe tbody tr th {\n",
       "        vertical-align: top;\n",
       "    }\n",
       "\n",
       "    .dataframe thead th {\n",
       "        text-align: right;\n",
       "    }\n",
       "</style>\n",
       "<table border=\"1\" class=\"dataframe\">\n",
       "  <thead>\n",
       "    <tr style=\"text-align: right;\">\n",
       "      <th></th>\n",
       "      <th>userId</th>\n",
       "      <th>movieId</th>\n",
       "    </tr>\n",
       "  </thead>\n",
       "  <tbody>\n",
       "    <tr>\n",
       "      <td>0</td>\n",
       "      <td>1</td>\n",
       "      <td>151</td>\n",
       "    </tr>\n",
       "    <tr>\n",
       "      <td>1</td>\n",
       "      <td>1</td>\n",
       "      <td>223</td>\n",
       "    </tr>\n",
       "    <tr>\n",
       "      <td>2</td>\n",
       "      <td>1</td>\n",
       "      <td>253</td>\n",
       "    </tr>\n",
       "    <tr>\n",
       "      <td>3</td>\n",
       "      <td>1</td>\n",
       "      <td>260</td>\n",
       "    </tr>\n",
       "    <tr>\n",
       "      <td>4</td>\n",
       "      <td>1</td>\n",
       "      <td>293</td>\n",
       "    </tr>\n",
       "  </tbody>\n",
       "</table>\n",
       "</div>"
      ],
      "text/plain": [
       "   userId  movieId\n",
       "0       1      151\n",
       "1       1      223\n",
       "2       1      253\n",
       "3       1      260\n",
       "4       1      293"
      ]
     },
     "execution_count": 63,
     "metadata": {},
     "output_type": "execute_result"
    }
   ],
   "source": [
    "raw_data.head()"
   ]
  },
  {
   "cell_type": "code",
   "execution_count": 64,
   "metadata": {},
   "outputs": [
    {
     "data": {
      "text/plain": [
       "(9995410, 2)"
      ]
     },
     "execution_count": 64,
     "metadata": {},
     "output_type": "execute_result"
    }
   ],
   "source": [
    "raw_data.shape"
   ]
  },
  {
   "cell_type": "markdown",
   "metadata": {},
   "source": [
    "### Data splitting procedure"
   ]
  },
  {
   "cell_type": "markdown",
   "metadata": {},
   "source": [
    "get_count id 별로 그룹화, 그룹별 데이터 수 확인"
   ]
  },
  {
   "cell_type": "code",
   "execution_count": 65,
   "metadata": {},
   "outputs": [],
   "source": [
    "def get_count(tp, id):\n",
    "    playcount_groupbyid = tp[[id]].groupby(id, as_index=False)\n",
    "    count = playcount_groupbyid.size()\n",
    "    return count"
   ]
  },
  {
   "cell_type": "code",
   "execution_count": 66,
   "metadata": {},
   "outputs": [],
   "source": [
    "def filter_triplets(tp, min_uc=5, min_sc=0):\n",
    "    # Only keep the triplets for items which were clicked on by at least min_sc users. \n",
    "    if min_sc > 0:\n",
    "         #기존 data를 min_sc 해당되는 movield만 filtering       \n",
    "        itemcount = get_count(tp, 'movieId')\n",
    "        tp = tp[tp['movieId'].isin(itemcount.index[itemcount >= min_sc])]\n",
    "    \n",
    "    # Only keep the triplets for users who clicked on at least min_uc items\n",
    "    # After doing this, some of the items will have less than min_uc users, but should only be a small proportion\n",
    "    if min_uc > 0:\n",
    "        usercount = get_count(tp, 'userId')\n",
    "        #기존 data를 min_uc이상 해당되는 userld만 filtering\n",
    "        tp = tp[tp['userId'].isin(usercount.index[usercount >= min_uc])]\n",
    "    \n",
    "    # Update both usercount and itemcount after filtering\n",
    "    usercount, itemcount = get_count(tp, 'userId'), get_count(tp, 'movieId') \n",
    "    return tp, usercount, itemcount"
   ]
  },
  {
   "cell_type": "code",
   "execution_count": 67,
   "metadata": {},
   "outputs": [],
   "source": [
    "raw_data, user_activity, item_popularity = filter_triplets(raw_data, 5, 10)"
   ]
  },
  {
   "cell_type": "markdown",
   "metadata": {},
   "source": [
    "sparsity 구하기 raw_data의 열의 갯수(filtering 된 raw data 총 갯수) / userid 갯수 * products 갯수"
   ]
  },
  {
   "cell_type": "code",
   "execution_count": 68,
   "metadata": {
    "scrolled": true
   },
   "outputs": [
    {
     "name": "stdout",
     "output_type": "stream",
     "text": [
      "After filtering, there are 9962997 watching events from 136669 users and 11518 products (sparsity: 0.633%)\n"
     ]
    }
   ],
   "source": [
    "sparsity = 1. * raw_data.shape[0] / (user_activity.shape[0] * item_popularity.shape[0])\n",
    "\n",
    "print(\"After filtering, there are %d watching events from %d users and %d products (sparsity: %.3f%%)\" % \n",
    "      (raw_data.shape[0], user_activity.shape[0], item_popularity.shape[0], sparsity * 100))"
   ]
  },
  {
   "cell_type": "code",
   "execution_count": 14,
   "metadata": {},
   "outputs": [
    {
     "name": "stdout",
     "output_type": "stream",
     "text": [
      "userId\n",
      "125794    3177\n",
      "82418     2655\n",
      "8405      2503\n",
      "118205    2377\n",
      "131894    2349\n",
      "          ... \n",
      "36078        5\n",
      "111773       5\n",
      "123722       5\n",
      "44769        5\n",
      "17566        5\n",
      "Length: 136677, dtype: int64\n"
     ]
    }
   ],
   "source": [
    "print(get_count(raw_data,'userId').sort_values(ascending= False))"
   ]
  },
  {
   "cell_type": "code",
   "execution_count": 15,
   "metadata": {},
   "outputs": [],
   "source": [
    "def getportion(val, test):\n",
    "    total = user_activity.index.shape[0]\n",
    "    return round(((total-val-test)/total)*100), round((val/total)*100), round((test/total)*100)"
   ]
  },
  {
   "cell_type": "code",
   "execution_count": 16,
   "metadata": {},
   "outputs": [],
   "source": [
    "def getDataindex(val,test):\n",
    "    trainP,valP,testP = getportion(val,test)\n",
    "    print(trainP, valP, testP)\n",
    "    totalP = trainP + valP+ testP\n",
    "    totalUser = user_activity.sort_values(ascending= False)\n",
    "    sortedIndexUser = totalUser.reset_index()\n",
    "    print(sortedIndexUser)\n",
    "    #sortedIndexUser = sortedIndexUser[10:]\n",
    "    print(sortedIndexUser)\n",
    "    sortedIndex = sortedIndexUser['userId']\n",
    "    sortedIndex_tr = sortedIndex[(sortedIndex.index%totalP>=0) & (sortedIndex.index%totalP<trainP)]\n",
    "    sortedIndex_va = sortedIndex[(sortedIndex.index%totalP>=trainP) & (sortedIndex.index%totalP<(trainP+valP))]\n",
    "    sortedIndex_te = sortedIndex[(sortedIndex.index%totalP>=(trainP+valP)) & (sortedIndex.index%totalP<(trainP+valP+testP))]\n",
    "    sorteduid = pd.concat([sortedIndex_tr,sortedIndex_va,sortedIndex_te])\n",
    "    return sorteduid.tolist(), sortedIndex_tr.tolist(),sortedIndex_va.tolist(), sortedIndex_te.tolist()"
   ]
  },
  {
   "cell_type": "code",
   "execution_count": 17,
   "metadata": {},
   "outputs": [],
   "source": [
    "def getDataindex_p(trainP,valP,testP):\n",
    "    print(trainP, valP, testP)\n",
    "    totalP = trainP + valP+ testP\n",
    "    totalUser = user_activity.sort_values(ascending= False)\n",
    "    sortedIndexUser = totalUser.reset_index()\n",
    "    print(sortedIndexUser)\n",
    "    #sortedIndexUser = sortedIndexUser[10:]\n",
    "    print(sortedIndexUser)\n",
    "    sortedIndex = sortedIndexUser['userId']\n",
    "    sortedIndex_tr = sortedIndex[(sortedIndex.index%totalP>=0) & (sortedIndex.index%totalP<trainP)]\n",
    "    sortedIndex_va = sortedIndex[(sortedIndex.index%totalP>=trainP) & (sortedIndex.index%totalP<(trainP+valP))]\n",
    "    sortedIndex_te = sortedIndex[(sortedIndex.index%totalP>=(trainP+valP)) & (sortedIndex.index%totalP<(trainP+valP+testP))]\n",
    "    sorteduid = pd.concat([sortedIndex_tr,sortedIndex_va,sortedIndex_te])\n",
    "    return sorteduid.tolist(), sortedIndex_tr.tolist(),sortedIndex_va.tolist(), sortedIndex_te.tolist()"
   ]
  },
  {
   "cell_type": "code",
   "execution_count": 18,
   "metadata": {},
   "outputs": [],
   "source": [
    "def getDataindex_order_p(trainP,valP,testP):\n",
    "    print(trainP, valP, testP)\n",
    "    totalP = trainP + valP+ testP\n",
    "    totalUser = user_activity.sort_values(ascending= False)\n",
    "    sortedIndexUser = totalUser.reset_index()\n",
    "    #sortedIndexUser = sortedIndexUser[10:]\n",
    "    print(sortedIndexUser)\n",
    "    sortedIndex = sortedIndexUser['userId']\n",
    "    tr_index = round(sortedIndexUser.shape[0]*(trainP/totalP))\n",
    "    vr_index = round(tr_index +sortedIndexUser.shape[0]*(valP/totalP))\n",
    "    print(\"trindex \", tr_index)\n",
    "    print(\"vindex\",vr_index)\n",
    "    sortedIndex_tr = sortedIndex[:tr_index]\n",
    "    sortedIndex_va = sortedIndex[tr_index:vr_index]\n",
    "    sortedIndex_te = sortedIndex[vr_index:]\n",
    "    sorteduid = pd.concat([sortedIndex_tr,sortedIndex_va,sortedIndex_te])\n",
    "    return sorteduid.tolist(), sortedIndex_tr.tolist(),sortedIndex_va.tolist(), sortedIndex_te.tolist()"
   ]
  },
  {
   "cell_type": "code",
   "execution_count": 19,
   "metadata": {},
   "outputs": [],
   "source": [
    "def RandomgetDataindex(val,test):\n",
    "    trainP,valP,testP = getportion(val,test)\n",
    "    print(trainP, valP, testP)\n",
    "    totalP = trainP + valP+ testP\n",
    "    totalUser = user_activity.sort_values(ascending= False)\n",
    "    sortedIndexUser = totalUser.reset_index()\n",
    "    #sortedIndexUser = sortedIndexUser[10:]\n",
    "    sortedIndex = sortedIndexUser['userId'].tolist()\n",
    "    train = list()\n",
    "    val = list()\n",
    "    test = list()\n",
    "    curarr = list()\n",
    "    unique = list()\n",
    "    for i in range(len(sortedIndex)):\n",
    "        curarr.append(sortedIndex[i])\n",
    "        if len(curarr) == totalP:\n",
    "            curval = random.sample(curarr,valP)\n",
    "            val += curval\n",
    "            for k in curval :\n",
    "                curarr.remove(k)\n",
    "            testval = random.sample(curarr,testP)\n",
    "            test += testval\n",
    "            for k in testval :\n",
    "                curarr.remove(k)\n",
    "            train += curarr\n",
    "            curarr.clear()\n",
    "    if len(curarr) !=0 :\n",
    "        train += curarr\n",
    "    unique = train + val + test\n",
    "    print(set(sortedIndex)-set(unique))\n",
    "    print(set(train).intersection(val))\n",
    "    print(set(train).intersection(test))\n",
    "    print(set(val).intersection(test))\n",
    "    return unique,train,val,test"
   ]
  },
  {
   "cell_type": "code",
   "execution_count": 20,
   "metadata": {},
   "outputs": [
    {
     "name": "stdout",
     "output_type": "stream",
     "text": [
      "85 7 7\n",
      "set()\n",
      "set()\n",
      "set()\n",
      "set()\n",
      "136677\n",
      "117357\n",
      "9660\n",
      "9660\n",
      "125794\n",
      "133811\n",
      "87561\n"
     ]
    }
   ],
   "source": [
    "unique_uid, tr_users, vd_users, te_users = RandomgetDataindex(cur_val_num,cur_te_num)\n",
    "print(len(unique_uid))\n",
    "print(len(tr_users))\n",
    "print(len(te_users))\n",
    "print(len(te_users))\n",
    "print(tr_users[0])\n",
    "print(vd_users[0])\n",
    "print(te_users[0])"
   ]
  },
  {
   "cell_type": "markdown",
   "metadata": {},
   "source": [
    "unique_uid, tr_users, vd_users, te_users = getDataindex_order_p(cur_train_por,cur_val_por,cur_test_por)\n",
    "print(unique_uid[0])\n",
    "print(tr_users[0])\n",
    "print(tr_users[-1])\n",
    "print(vd_users[0])\n",
    "print(vd_users[-1])\n",
    "print(te_users[0])\n",
    "print(te_users[-1])\n",
    "print(unique_uid[-1])"
   ]
  },
  {
   "cell_type": "markdown",
   "metadata": {},
   "source": [
    "unique_uid, tr_users, vd_users, te_users = getDataindex(cur_val_num,cur_te_num)\n",
    "print(len(unique_uid))\n",
    "print(len(tr_users))\n",
    "print(len(vd_users))\n",
    "print(len(te_users))"
   ]
  },
  {
   "cell_type": "code",
   "execution_count": 21,
   "metadata": {},
   "outputs": [
    {
     "name": "stdout",
     "output_type": "stream",
     "text": [
      "(117357,)\n",
      "(8577238, 2)\n"
     ]
    }
   ],
   "source": [
    "train_plays = raw_data.loc[raw_data['userId'].isin(tr_users)]\n",
    "print(pd.unique(train_plays['userId']).shape)\n",
    "print(train_plays.shape)"
   ]
  },
  {
   "cell_type": "code",
   "execution_count": 22,
   "metadata": {},
   "outputs": [
    {
     "name": "stdout",
     "output_type": "stream",
     "text": [
      "(20232,)\n"
     ]
    }
   ],
   "source": [
    "unique_sid = pd.unique(train_plays['movieId'])\n",
    "print(unique_sid.shape)"
   ]
  },
  {
   "cell_type": "code",
   "execution_count": 23,
   "metadata": {},
   "outputs": [
    {
     "name": "stdout",
     "output_type": "stream",
     "text": [
      "136677\n",
      "set()\n",
      "9660\n",
      "9660\n",
      "136677\n",
      "set()\n",
      "9660\n",
      "9660\n",
      "136677\n"
     ]
    }
   ],
   "source": [
    "print(len(unique_uid))\n",
    "vad_plays = raw_data.loc[raw_data['userId'].isin(vd_users)]\n",
    "vad_before_set = set(pd.unique(vad_plays['userId']))\n",
    "vad_plays = vad_plays.loc[vad_plays['movieId'].isin(unique_sid)]\n",
    "vad_set = set(pd.unique(vad_plays['userId']))\n",
    "remove_vad_uidx = vad_before_set - vad_set\n",
    "print(remove_vad_uidx)\n",
    "print(len(vad_before_set))\n",
    "print(len(vad_set))\n",
    "for x in remove_vad_uidx:\n",
    "    if x in unique_uid:\n",
    "                unique_uid.remove(x)\n",
    "test_plays = raw_data.loc[raw_data['userId'].isin(te_users)]\n",
    "test_before_set = set(pd.unique(test_plays['userId']))\n",
    "test_plays = test_plays.loc[test_plays['movieId'].isin(unique_sid)]\n",
    "test_set = set(pd.unique(test_plays['userId']))\n",
    "remove_test_uidx = test_before_set-test_set\n",
    "print(len(unique_uid))\n",
    "print(remove_test_uidx)\n",
    "for x in remove_test_uidx:\n",
    "    if x in unique_uid:\n",
    "                unique_uid.remove(x)\n",
    "print(len(test_before_set))\n",
    "print(len(test_set))\n",
    "print(len(unique_uid))\n",
    "before_uid = len(unique_uid)\n",
    "before_vd = pd.unique(vad_plays['userId']).shape\n",
    "before_te = pd.unique(test_plays['userId']).shape"
   ]
  },
  {
   "cell_type": "code",
   "execution_count": 24,
   "metadata": {},
   "outputs": [
    {
     "name": "stdout",
     "output_type": "stream",
     "text": [
      "         userId  movieId\n",
      "0             1      151\n",
      "1             1      223\n",
      "2             1      253\n",
      "3             1      260\n",
      "4             1      293\n",
      "...         ...      ...\n",
      "9995405  138493    66762\n",
      "9995406  138493    68319\n",
      "9995407  138493    68954\n",
      "9995408  138493    69526\n",
      "9995409  138493    70286\n",
      "\n",
      "[8577238 rows x 2 columns]\n"
     ]
    }
   ],
   "source": [
    "print(train_plays)"
   ]
  },
  {
   "cell_type": "code",
   "execution_count": 25,
   "metadata": {},
   "outputs": [
    {
     "name": "stdout",
     "output_type": "stream",
     "text": [
      "         userId  movieId\n",
      "88            2        3\n",
      "89            2       62\n",
      "90            2       70\n",
      "91            2      110\n",
      "92            2      260\n",
      "...         ...      ...\n",
      "9993405  138468    88129\n",
      "9993406  138468    94466\n",
      "9993407  138468   109487\n",
      "9993408  138468   111759\n",
      "9993409  138468   112556\n",
      "\n",
      "[707045 rows x 2 columns]\n"
     ]
    }
   ],
   "source": [
    "print(vad_plays)"
   ]
  },
  {
   "cell_type": "code",
   "execution_count": 26,
   "metadata": {},
   "outputs": [
    {
     "name": "stdout",
     "output_type": "stream",
     "text": [
      "         userId  movieId\n",
      "131           3        1\n",
      "132           3       32\n",
      "133           3       50\n",
      "134           3      175\n",
      "135           3      223\n",
      "...         ...      ...\n",
      "9992905  138460     2571\n",
      "9992906  138460     4226\n",
      "9992907  138460     4973\n",
      "9992908  138460     4993\n",
      "9992909  138460     7153\n",
      "\n",
      "[705864 rows x 2 columns]\n"
     ]
    }
   ],
   "source": [
    "print(test_plays)"
   ]
  },
  {
   "cell_type": "code",
   "execution_count": 27,
   "metadata": {},
   "outputs": [],
   "source": [
    "def getSparsity(data):\n",
    "    usercount = get_count(data,'userId')\n",
    "    itemcount = get_count(data, 'movieId')\n",
    "    sparsity = 1. * data.shape[0] / (usercount.shape[0] * len(unique_sid))\n",
    "    print(\"After filtering, there are %d watching events from %d users and %d products (sparsity: %.3f%%)\" % \n",
    "      (data.shape[0], usercount.shape[0], len(unique_sid), sparsity * 100))   "
   ]
  },
  {
   "cell_type": "code",
   "execution_count": 28,
   "metadata": {},
   "outputs": [
    {
     "name": "stdout",
     "output_type": "stream",
     "text": [
      "After filtering, there are 8577238 watching events from 117357 users and 20232 products (sparsity: 0.361%)\n"
     ]
    }
   ],
   "source": [
    "getSparsity(train_plays)"
   ]
  },
  {
   "cell_type": "code",
   "execution_count": 29,
   "metadata": {},
   "outputs": [
    {
     "name": "stdout",
     "output_type": "stream",
     "text": [
      "After filtering, there are 707045 watching events from 9660 users and 20232 products (sparsity: 0.362%)\n"
     ]
    }
   ],
   "source": [
    "getSparsity(vad_plays)"
   ]
  },
  {
   "cell_type": "code",
   "execution_count": 30,
   "metadata": {},
   "outputs": [
    {
     "name": "stdout",
     "output_type": "stream",
     "text": [
      "After filtering, there are 705864 watching events from 9660 users and 20232 products (sparsity: 0.361%)\n"
     ]
    }
   ],
   "source": [
    "getSparsity(test_plays)"
   ]
  },
  {
   "cell_type": "code",
   "execution_count": 31,
   "metadata": {},
   "outputs": [],
   "source": [
    "def split_train_test_proportion(data,cur_num_items,test_prop=0.2):\n",
    "    data_grouped_by_user = data.groupby('userId')\n",
    "    tr_list, te_list = list(), list()\n",
    "    np.random.seed(12)\n",
    "\n",
    "    for i, (index, group) in enumerate(data_grouped_by_user):\n",
    "        n_items_u = len(group)\n",
    "        if n_items_u >= cur_num_items:\n",
    "            idx = np.zeros(n_items_u, dtype='bool')\n",
    "            idx[np.random.choice(n_items_u, size=int(test_prop * n_items_u), replace=False).astype('int64')] = True\n",
    "\n",
    "            tr_list.append(group[np.logical_not(idx)])\n",
    "            te_list.append(group[idx])\n",
    "        else :\n",
    "            if index in unique_uid:\n",
    "                unique_uid.remove(index)\n",
    "        if i % 1000 == 0:\n",
    "            print(\"%d users sampled\" % i)\n",
    "            sys.stdout.flush()\n",
    "    data_tr = pd.concat(tr_list)\n",
    "    data_te = pd.concat(te_list)\n",
    "    return data_tr, data_te"
   ]
  },
  {
   "cell_type": "code",
   "execution_count": 32,
   "metadata": {},
   "outputs": [
    {
     "name": "stdout",
     "output_type": "stream",
     "text": [
      "0 users sampled\n",
      "1000 users sampled\n",
      "2000 users sampled\n",
      "3000 users sampled\n",
      "4000 users sampled\n",
      "5000 users sampled\n",
      "6000 users sampled\n",
      "7000 users sampled\n",
      "8000 users sampled\n",
      "9000 users sampled\n"
     ]
    }
   ],
   "source": [
    "vad_plays_tr, vad_plays_te = split_train_test_proportion(vad_plays,cur_n_items_u)"
   ]
  },
  {
   "cell_type": "code",
   "execution_count": 33,
   "metadata": {},
   "outputs": [],
   "source": [
    "vad_palys_list = vad_plays_tr['userId']"
   ]
  },
  {
   "cell_type": "code",
   "execution_count": 34,
   "metadata": {},
   "outputs": [],
   "source": [
    "vad_palys_list_te = vad_plays_te['userId']"
   ]
  },
  {
   "cell_type": "code",
   "execution_count": 35,
   "metadata": {},
   "outputs": [
    {
     "name": "stdout",
     "output_type": "stream",
     "text": [
      "117357\n"
     ]
    }
   ],
   "source": [
    "print(len(tr_users))"
   ]
  },
  {
   "cell_type": "code",
   "execution_count": 36,
   "metadata": {},
   "outputs": [
    {
     "name": "stdout",
     "output_type": "stream",
     "text": [
      "(9177,)\n",
      "(9177,)\n"
     ]
    }
   ],
   "source": [
    "print(pd.unique(vad_plays_tr['userId']).shape)\n",
    "print(pd.unique(vad_plays_te['userId']).shape)"
   ]
  },
  {
   "cell_type": "code",
   "execution_count": 37,
   "metadata": {},
   "outputs": [
    {
     "name": "stdout",
     "output_type": "stream",
     "text": [
      "0 users sampled\n",
      "1000 users sampled\n",
      "2000 users sampled\n",
      "3000 users sampled\n",
      "4000 users sampled\n",
      "5000 users sampled\n",
      "6000 users sampled\n",
      "7000 users sampled\n",
      "8000 users sampled\n",
      "9000 users sampled\n"
     ]
    }
   ],
   "source": [
    "test_plays_tr, test_plays_te = split_train_test_proportion(test_plays,cur_n_items_u)"
   ]
  },
  {
   "cell_type": "code",
   "execution_count": 38,
   "metadata": {
    "scrolled": true
   },
   "outputs": [
    {
     "name": "stdout",
     "output_type": "stream",
     "text": [
      "(9178,)\n"
     ]
    }
   ],
   "source": [
    "print(pd.unique(test_plays_tr['userId']).shape)"
   ]
  },
  {
   "cell_type": "code",
   "execution_count": 39,
   "metadata": {},
   "outputs": [
    {
     "name": "stdout",
     "output_type": "stream",
     "text": [
      "(9178,)\n"
     ]
    }
   ],
   "source": [
    "print(pd.unique(test_plays_te['userId']).shape)"
   ]
  },
  {
   "cell_type": "code",
   "execution_count": 40,
   "metadata": {},
   "outputs": [
    {
     "name": "stdout",
     "output_type": "stream",
     "text": [
      "135712\n"
     ]
    }
   ],
   "source": [
    "print(len(unique_uid))"
   ]
  },
  {
   "cell_type": "code",
   "execution_count": 41,
   "metadata": {
    "scrolled": true
   },
   "outputs": [
    {
     "name": "stdout",
     "output_type": "stream",
     "text": [
      "965\n",
      "482\n",
      "483\n"
     ]
    }
   ],
   "source": [
    "print(before_uid - len(unique_uid))\n",
    "print(before_te[0] - pd.unique(test_plays_tr['userId']).shape[0])\n",
    "print(before_vd[0]- pd.unique(vad_plays_tr['userId']).shape[0])"
   ]
  },
  {
   "cell_type": "markdown",
   "metadata": {},
   "source": [
    "    unique_sid는 train_plays에서 뽑는 unique한 users"
   ]
  },
  {
   "cell_type": "markdown",
   "metadata": {},
   "source": [
    "    unique_uid는 뒤섞인것 기준\n",
    "    show2id는 index와 value를 바꾼 dict (unique_sid에서 뽑은 것 mapping) -> products : index\n",
    "    profile2id는 index와 value를 바꾼 dict (전체 unique_uid에서 뽑은 것 mapping) -> users : index"
   ]
  },
  {
   "cell_type": "code",
   "execution_count": 42,
   "metadata": {},
   "outputs": [],
   "source": [
    "show2id = dict((sid, i) for (i, sid) in enumerate(unique_sid))\n",
    "profile2id = dict((pid, i) for (i, pid) in enumerate(unique_uid))"
   ]
  },
  {
   "cell_type": "markdown",
   "metadata": {},
   "source": [
    "    unique_sid는 unique_sid.txt로 기록 "
   ]
  },
  {
   "cell_type": "code",
   "execution_count": 43,
   "metadata": {},
   "outputs": [],
   "source": [
    "if not os.path.exists(pro_dir):\n",
    "    os.makedirs(pro_dir)\n",
    "\n",
    "with open(os.path.join(pro_dir, 'unique_sid_2.txt'), 'w') as f:\n",
    "    for sid in unique_sid:\n",
    "        f.write('%s\\n' % sid)"
   ]
  },
  {
   "cell_type": "markdown",
   "metadata": {},
   "source": [
    "    split_train_test_proportion함수 data를 userId로 그룹화\n",
    "    tr_list, te_list은 userId로 그룹화 된 data를 test_prop 만큼 비율로 나누어서 저장 \n",
    "    te_list는 그룹화된 (int) data 갯수 * test_prop 개의 random한 index를 가지는 data 저장\n",
    "    tr_list는 나머지 그룹화된 data 저장"
   ]
  },
  {
   "cell_type": "markdown",
   "metadata": {},
   "source": [
    "### Save the data into (user_index, item_index) format"
   ]
  },
  {
   "cell_type": "markdown",
   "metadata": {},
   "source": [
    "    numerize 함수 userId와 movieId를 index로 mapping 후 uid(users) sid(products)로 dataFrame생성"
   ]
  },
  {
   "cell_type": "code",
   "execution_count": 44,
   "metadata": {},
   "outputs": [],
   "source": [
    "def numerize(tp):\n",
    "    uid = list(map(lambda x: profile2id[x], tp['userId']))\n",
    "    sid = list(map(lambda x: show2id[x], tp['movieId']))\n",
    "    return pd.DataFrame(data={'uid': uid, 'sid': sid}, columns=['uid', 'sid'])"
   ]
  },
  {
   "cell_type": "code",
   "execution_count": 45,
   "metadata": {},
   "outputs": [],
   "source": [
    "train_data = numerize(train_plays)\n",
    "train_data.to_csv(os.path.join(pro_dir, 'train_2.csv'), index=False)"
   ]
  },
  {
   "cell_type": "code",
   "execution_count": 46,
   "metadata": {},
   "outputs": [],
   "source": [
    "def getSparsity_S(data):\n",
    "    usercount = get_count(data,'uid')\n",
    "    itemcount = get_count(data, 'sid')\n",
    "    sparsity = 1. * data.shape[0] / (usercount.shape[0] * len(unique_sid))\n",
    "    print(\"After filtering, there are %d watching events from %d users and %d products (sparsity: %.3f%%)\" % \n",
    "      (data.shape[0], usercount.shape[0], len(unique_sid), sparsity * 100))   "
   ]
  },
  {
   "cell_type": "code",
   "execution_count": 47,
   "metadata": {},
   "outputs": [
    {
     "name": "stdout",
     "output_type": "stream",
     "text": [
      "After filtering, there are 8579649 watching events from 117357 users and 20233 products (sparsity: 0.361%)\n"
     ]
    }
   ],
   "source": [
    "getSparsity_S(train_data)"
   ]
  },
  {
   "cell_type": "code",
   "execution_count": 48,
   "metadata": {},
   "outputs": [],
   "source": [
    "vad_data_tr = numerize(vad_plays_tr)\n",
    "vad_data_tr.to_csv(os.path.join(pro_dir, 'validation_tr_2.csv'), index=False)"
   ]
  },
  {
   "cell_type": "code",
   "execution_count": 49,
   "metadata": {},
   "outputs": [
    {
     "name": "stdout",
     "output_type": "stream",
     "text": [
      "After filtering, there are 564564 watching events from 9177 users and 20233 products (sparsity: 0.304%)\n"
     ]
    }
   ],
   "source": [
    "getSparsity_S(vad_data_tr)"
   ]
  },
  {
   "cell_type": "code",
   "execution_count": 50,
   "metadata": {},
   "outputs": [],
   "source": [
    "vad_data_te = numerize(vad_plays_te)\n",
    "vad_data_te.to_csv(os.path.join(pro_dir, 'validation_te_2.csv'), index=False)"
   ]
  },
  {
   "cell_type": "code",
   "execution_count": 51,
   "metadata": {},
   "outputs": [
    {
     "name": "stdout",
     "output_type": "stream",
     "text": [
      "After filtering, there are 136612 watching events from 9177 users and 20233 products (sparsity: 0.074%)\n"
     ]
    }
   ],
   "source": [
    "getSparsity_S(vad_data_te)"
   ]
  },
  {
   "cell_type": "code",
   "execution_count": 52,
   "metadata": {},
   "outputs": [],
   "source": [
    "test_data_tr = numerize(test_plays_tr)\n",
    "test_data_tr.to_csv(os.path.join(pro_dir, 'test_tr_2.csv'), index=False)"
   ]
  },
  {
   "cell_type": "code",
   "execution_count": 53,
   "metadata": {},
   "outputs": [
    {
     "name": "stdout",
     "output_type": "stream",
     "text": [
      "After filtering, there are 565354 watching events from 9178 users and 20233 products (sparsity: 0.304%)\n"
     ]
    }
   ],
   "source": [
    "getSparsity_S(test_data_tr)"
   ]
  },
  {
   "cell_type": "code",
   "execution_count": 54,
   "metadata": {},
   "outputs": [],
   "source": [
    "test_data_te = numerize(test_plays_te)\n",
    "test_data_te.to_csv(os.path.join(pro_dir, 'test_te_2.csv'), index=False)"
   ]
  },
  {
   "cell_type": "code",
   "execution_count": 55,
   "metadata": {},
   "outputs": [
    {
     "name": "stdout",
     "output_type": "stream",
     "text": [
      "After filtering, there are 136831 watching events from 9178 users and 20233 products (sparsity: 0.074%)\n"
     ]
    }
   ],
   "source": [
    "getSparsity_S(test_data_te)"
   ]
  },
  {
   "cell_type": "code",
   "execution_count": null,
   "metadata": {},
   "outputs": [],
   "source": []
  },
  {
   "cell_type": "code",
   "execution_count": null,
   "metadata": {},
   "outputs": [],
   "source": []
  },
  {
   "cell_type": "code",
   "execution_count": null,
   "metadata": {},
   "outputs": [],
   "source": []
  }
 ],
 "metadata": {
  "kernelspec": {
   "display_name": "Python 3",
   "language": "python",
   "name": "python3"
  },
  "language_info": {
   "codemirror_mode": {
    "name": "ipython",
    "version": 3
   },
   "file_extension": ".py",
   "mimetype": "text/x-python",
   "name": "python",
   "nbconvert_exporter": "python",
   "pygments_lexer": "ipython3",
   "version": "3.7.4"
  }
 },
 "nbformat": 4,
 "nbformat_minor": 2
}
